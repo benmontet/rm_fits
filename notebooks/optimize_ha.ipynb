{
 "cells": [
  {
   "cell_type": "code",
   "execution_count": 1,
   "metadata": {},
   "outputs": [],
   "source": [
    "import numpy as np\n",
    "import matplotlib.pyplot as plt\n",
    "import starry\n",
    "\n",
    "import exoplanet as exo\n"
   ]
  },
  {
   "cell_type": "code",
   "execution_count": 2,
   "metadata": {},
   "outputs": [
    {
     "data": {
      "text/plain": [
       "'1.0.0.dev3'"
      ]
     },
     "execution_count": 2,
     "metadata": {},
     "output_type": "execute_result"
    }
   ],
   "source": [
    "starry.__version__"
   ]
  },
  {
   "cell_type": "code",
   "execution_count": 3,
   "metadata": {},
   "outputs": [],
   "source": [
    "map = starry.Map(ydeg=20, udeg=2, rv=True, lazy=False)\n"
   ]
  },
  {
   "cell_type": "code",
   "execution_count": 4,
   "metadata": {},
   "outputs": [],
   "source": [
    "time, vels, verr, ha = np.loadtxt('../data/transit.vels', usecols=[0,1,2,4], unpack=True)\n",
    "time -= 2458706.5"
   ]
  },
  {
   "cell_type": "code",
   "execution_count": 5,
   "metadata": {},
   "outputs": [],
   "source": [
    "Prot = 2.85             # days\n",
    "P = 8.1387              # days\n",
    "t0 = 0.168\n",
    "e = 0.0                   \n",
    "w = 0.0\n",
    "inc = 90.0\n",
    "\n",
    "\n",
    "vsini = 18.3 * 1e3      # m /s\n",
    "r = 0.06472             # In units of Rstar\n",
    "b = -0.40               # I want it to transit in the South!\n",
    "a = 19.42               # In units of Rstar\n",
    "u1 = 0.95\n",
    "u2 = 0.20\n",
    "obl = -0\n",
    "gamma = -15\n",
    "gammadot = 100\n",
    "gammadotdot = 800\n",
    "\n",
    "veq = vsini / np.sin(inc * np.pi / 180.0)\n"
   ]
  },
  {
   "cell_type": "code",
   "execution_count": 6,
   "metadata": {},
   "outputs": [
    {
     "name": "stderr",
     "output_type": "stream",
     "text": [
      "Compiling `rv`... Done.\n"
     ]
    },
    {
     "data": {
      "image/png": "[encoded data removed]",
      "text/plain": [
       "<Figure size 1080x360 with 1 Axes>"
      ]
     },
     "metadata": {},
     "output_type": "display_data"
    }
   ],
   "source": [
    "map.reset()\n",
    "map.inc = inc\n",
    "map.obl = obl\n",
    "#map.add_spot(spot_amp, sigma=spot_sig, lon=spot_lon, lat=-spot_lat)\n",
    "map[1:] = [u1, u2]\n",
    "map.veq = veq\n",
    "\n",
    "orbit = exo.orbits.KeplerianOrbit(period=P, a=a, t0=t0, b=b, ecc=e, omega=w, r_star=1.0) \n",
    "\n",
    "\n",
    "t = np.linspace(0.05, 0.30, 1000)\n",
    "\n",
    "\n",
    "f = (t - t0)/P*2*np.pi\n",
    "I = np.arccos(b/a)\n",
    "\n",
    "zo = a*np.cos(f) \n",
    "yo = -a*np.sin(np.pi/2+f)*np.cos(I)\n",
    "xo = a*np.sin(f)*np.sin(I)\n",
    "\n",
    "\n",
    "theta = 360.0 / Prot * t\n",
    "\n",
    "rv = map.rv(xo=xo, yo=yo, zo=zo, ro=r, theta=theta)\n",
    "rv += gamma + gammadot*(t-0.15) + gammadotdot*(t-0.15)**2\n",
    "    \n",
    "\n",
    "plt.figure(figsize=(15,5))\n",
    "plt.plot(t, rv, \"C1\", lw=3)\n",
    "plt.errorbar(time, vels, yerr=verr, fmt='.')\n",
    "plt.ylim(-60, 40);"
   ]
  },
  {
   "cell_type": "code",
   "execution_count": 7,
   "metadata": {},
   "outputs": [],
   "source": [
    "from scipy.optimize import minimize"
   ]
  },
  {
   "cell_type": "code",
   "execution_count": 9,
   "metadata": {},
   "outputs": [],
   "source": [
    "tuse = time + 0.0\n",
    "euse = verr + 0.0\n",
    "vuse = vels + 0.0\n",
    "\n",
    "\n",
    "def rmcurve(tarr, params):\n",
    "    \n",
    "    vsini, r, b, a, u1, u2, obl, gamma, jitter_good, t0, ha_fac = params\n",
    "    veq = vsini / np.sin(inc * np.pi / 180.0)\n",
    "    \n",
    "    if u1 + u2 > 1.0:\n",
    "        print('inf')\n",
    "        return 2700\n",
    "\n",
    "    map.reset()\n",
    "\n",
    "    map.inc = inc\n",
    "    map.obl = obl\n",
    "    #map.add_spot(spot_amp, sigma=spot_sig, lon=spot_lon, lat=-spot_lat)\n",
    "    map[1:] = [u1, u2]\n",
    "    map.veq = veq\n",
    "\n",
    "\n",
    "    f = (tarr - t0)/P*2*np.pi\n",
    "    I = np.arccos(b/a)\n",
    "\n",
    "    zo = a*np.cos(f) \n",
    "    yo = -a*np.sin(np.pi/2+f)*np.cos(I)\n",
    "    xo = a*np.sin(f)*np.sin(I)\n",
    "\n",
    "\n",
    "    theta = 360.0 / Prot * tarr\n",
    "\n",
    "    rv_0 = map.rv(xo=xo, yo=yo, zo=zo, ro=r, theta=theta)\n",
    "    \n",
    "    trend = ha_fac * (ha-0.055)\n",
    "    rv = rv_0 + trend + gamma\n",
    "    \n",
    "    \n",
    "    var_good = (euse**2 + jitter_good**2)\n",
    "   \n",
    "    goodgauss = 1.0 / np.sqrt(2*np.pi*var_good) * np.exp(-(rv-vuse)**2/(2*var_good))\n",
    "\n",
    "    totgauss = np.log(goodgauss)\n",
    "    \n",
    "    #print(np.log(goodgauss))\n",
    "    #print(np.log(badgauss))\n",
    "        \n",
    "    print(-1*np.sum(totgauss))\n",
    "    return -1*np.sum(totgauss)\n",
    "\n"
   ]
  },
  {
   "cell_type": "code",
   "execution_count": 27,
   "metadata": {},
   "outputs": [],
   "source": [
    "def plot_rmcurve(tarr, params):\n",
    "    \n",
    "    vsini, r, b, a, u1, u2, obl, gamma, jitter_good, t0, ha_fac = params\n",
    "    veq = vsini / np.sin(inc * np.pi / 180.0)\n",
    "    \n",
    "    if u1 + u2 > 1.0:\n",
    "        print('inf')\n",
    "        return 2700\n",
    "\n",
    "    map.reset()\n",
    "\n",
    "    map.inc = inc\n",
    "    map.obl = obl\n",
    "    #map.add_spot(spot_amp, sigma=spot_sig, lon=spot_lon, lat=-spot_lat)\n",
    "    map[1:] = [u1, u2]\n",
    "    map.veq = veq\n",
    "\n",
    "    \n",
    "    ha_use = np.interp(tarr, tuse, ha)\n",
    "\n",
    "    f = (tarr - t0)/P*2*np.pi\n",
    "    I = np.arccos(b/a)\n",
    "\n",
    "    zo = a*np.cos(f) \n",
    "    yo = -a*np.sin(np.pi/2+f)*np.cos(I)\n",
    "    xo = a*np.sin(f)*np.sin(I)\n",
    "\n",
    "\n",
    "    theta = 360.0 / Prot * tarr\n",
    "\n",
    "    rv_0 = map.rv(xo=xo, yo=yo, zo=zo, ro=r, theta=theta)\n",
    "    \n",
    "    trend = ha_fac * (ha_use-0.055)\n",
    "    rv = rv_0 + trend + gamma\n",
    "    \n",
    "    \n",
    "    plt.figure(figsize=(15,5))\n",
    "    plt.plot(tarr, rv, \"C1\", lw=3)\n",
    "    plt.errorbar(time, vels, yerr=verr, fmt='.')\n",
    "    plt.ylim(-50, 40);\n",
    "    plt.show()"
   ]
  },
  {
   "cell_type": "code",
   "execution_count": 35,
   "metadata": {},
   "outputs": [
    {
     "name": "stdout",
     "output_type": "stream",
     "text": [
      "375.6047591253769\n"
     ]
    },
    {
     "data": {
      "image/png": "[encoded data removed]",
      "text/plain": [
       "<Figure size 1080x360 with 1 Axes>"
      ]
     },
     "metadata": {},
     "output_type": "display_data"
    }
   ],
   "source": [
    "inputs = np.array([19300, 0.0688, -0.09, 20.79, 0.5, 0.40, 0.0, 20.0, 1.0, 0.166, -35000])\n",
    "\n",
    "bnds = ((12000, 24000), (0.04, 0.09), (-1.0, 0.0), (15,25), (0,1),(0,1), (-30,90), (-20,50), (0.0, 20.0), (0.16, 0.175), (-100000, 0))\n",
    "rmcurve(tuse, inputs)\n",
    "\n",
    "tarr = np.arange(0.0, 0.35, 0.001)\n",
    "\n",
    "plot_rmcurve(tarr, inputs)"
   ]
  },
  {
   "cell_type": "code",
   "execution_count": null,
   "metadata": {},
   "outputs": [],
   "source": []
  }
 ],
 "metadata": {
  "anaconda-cloud": {},
  "kernelspec": {
   "display_name": "Python [python3]",
   "language": "python",
   "name": "Python [python3]"
  },
  "language_info": {
   "codemirror_mode": {
    "name": "ipython",
    "version": 3
   },
   "file_extension": ".py",
   "mimetype": "text/x-python",
   "name": "python",
   "nbconvert_exporter": "python",
   "pygments_lexer": "ipython3",
   "version": "3.5.2"
  }
 },
 "nbformat": 4,
 "nbformat_minor": 2
}
